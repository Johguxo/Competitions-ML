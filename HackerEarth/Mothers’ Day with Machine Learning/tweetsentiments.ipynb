{
 "cells": [
  {
   "cell_type": "code",
   "execution_count": 1,
   "metadata": {},
   "outputs": [],
   "source": [
    "import csv\n",
    "import numpy as np \n",
    "import pandas as pd \n",
    "import matplotlib.pyplot as plt \n",
    "import seaborn as sns"
   ]
  },
  {
   "cell_type": "code",
   "execution_count": 2,
   "metadata": {},
   "outputs": [],
   "source": [
    "data_train = pd.read_csv(\"data/dataset/train.csv\")\n",
    "data_test = pd.read_csv(\"data/dataset/test.csv\")"
   ]
  },
  {
   "cell_type": "code",
   "execution_count": 3,
   "metadata": {},
   "outputs": [
    {
     "data": {
      "text/plain": [
       "(3235, 6)"
      ]
     },
     "execution_count": 3,
     "metadata": {},
     "output_type": "execute_result"
    }
   ],
   "source": [
    "data_train.shape"
   ]
  },
  {
   "cell_type": "code",
   "execution_count": 4,
   "metadata": {},
   "outputs": [
    {
     "name": "stdout",
     "output_type": "stream",
     "text": [
      "<class 'pandas.core.frame.DataFrame'>\n",
      "RangeIndex: 3235 entries, 0 to 3234\n",
      "Data columns (total 6 columns):\n",
      " #   Column           Non-Null Count  Dtype  \n",
      "---  ------           --------------  -----  \n",
      " 0   id               3235 non-null   float64\n",
      " 1   original_text    3235 non-null   object \n",
      " 2   lang             3231 non-null   object \n",
      " 3   retweet_count    3231 non-null   object \n",
      " 4   original_author  3235 non-null   object \n",
      " 5   sentiment_class  3235 non-null   int64  \n",
      "dtypes: float64(1), int64(1), object(4)\n",
      "memory usage: 151.8+ KB\n"
     ]
    }
   ],
   "source": [
    "data_train.info()"
   ]
  },
  {
   "cell_type": "code",
   "execution_count": 5,
   "metadata": {},
   "outputs": [],
   "source": [
    "data_train['lang'].fillna(data_train['lang'].mode()[0],inplace=True)\n",
    "data_train['retweet_count'].fillna(data_train['retweet_count'].mode()[0],inplace=True)"
   ]
  },
  {
   "cell_type": "code",
   "execution_count": 6,
   "metadata": {},
   "outputs": [
    {
     "name": "stdout",
     "output_type": "stream",
     "text": [
      "<class 'pandas.core.frame.DataFrame'>\n",
      "RangeIndex: 3235 entries, 0 to 3234\n",
      "Data columns (total 6 columns):\n",
      " #   Column           Non-Null Count  Dtype  \n",
      "---  ------           --------------  -----  \n",
      " 0   id               3235 non-null   float64\n",
      " 1   original_text    3235 non-null   object \n",
      " 2   lang             3235 non-null   object \n",
      " 3   retweet_count    3235 non-null   object \n",
      " 4   original_author  3235 non-null   object \n",
      " 5   sentiment_class  3235 non-null   int64  \n",
      "dtypes: float64(1), int64(1), object(4)\n",
      "memory usage: 151.8+ KB\n"
     ]
    }
   ],
   "source": [
    "data_train.info()"
   ]
  },
  {
   "cell_type": "code",
   "execution_count": 7,
   "metadata": {},
   "outputs": [
    {
     "data": {
      "text/plain": [
       "count     3235\n",
       "unique     232\n",
       "top         en\n",
       "freq      2998\n",
       "Name: lang, dtype: object"
      ]
     },
     "execution_count": 7,
     "metadata": {},
     "output_type": "execute_result"
    }
   ],
   "source": [
    "data_train['lang'].describe()"
   ]
  },
  {
   "cell_type": "code",
   "execution_count": 8,
   "metadata": {},
   "outputs": [
    {
     "data": {
      "text/plain": [
       "2998"
      ]
     },
     "execution_count": 8,
     "metadata": {},
     "output_type": "execute_result"
    }
   ],
   "source": [
    "len(data_train[(data_train['lang']=='en')])"
   ]
  },
  {
   "cell_type": "code",
   "execution_count": 9,
   "metadata": {},
   "outputs": [],
   "source": [
    "data_train.drop(['id','lang'],axis=1,inplace=True)"
   ]
  },
  {
   "cell_type": "code",
   "execution_count": 10,
   "metadata": {},
   "outputs": [
    {
     "name": "stdout",
     "output_type": "stream",
     "text": [
      "<class 'pandas.core.frame.DataFrame'>\n",
      "RangeIndex: 3235 entries, 0 to 3234\n",
      "Data columns (total 4 columns):\n",
      " #   Column           Non-Null Count  Dtype \n",
      "---  ------           --------------  ----- \n",
      " 0   original_text    3235 non-null   object\n",
      " 1   retweet_count    3235 non-null   object\n",
      " 2   original_author  3235 non-null   object\n",
      " 3   sentiment_class  3235 non-null   int64 \n",
      "dtypes: int64(1), object(3)\n",
      "memory usage: 101.2+ KB\n"
     ]
    }
   ],
   "source": [
    "data_train.info()"
   ]
  },
  {
   "cell_type": "code",
   "execution_count": 28,
   "metadata": {},
   "outputs": [
    {
     "data": {
      "text/plain": [
       "3230    To all my sisters ,my sisters -in -law and als...\n",
       "3231    Happy Mother’s Day to all the Mums, Step Mums,...\n",
       "3232    Happy Mothers Day to the craziest woman I know...\n",
       "3233    Happy Mother's Day to my amazing wife! We both...\n",
       "3234    Wishing you all a safe & happy Mothers Day #mo...\n",
       "Name: original_text, dtype: object"
      ]
     },
     "execution_count": 28,
     "metadata": {},
     "output_type": "execute_result"
    }
   ],
   "source": [
    "data_train['original_text'].tail()"
   ]
  },
  {
   "cell_type": "code",
   "execution_count": 14,
   "metadata": {},
   "outputs": [],
   "source": [
    "import tensorflow as tf\n",
    "from tensorflow import keras\n",
    "\n",
    "from tensorflow.keras.preprocessing.text import Tokenizer\n",
    "from tensorflow.keras.preprocessing.sequence import pad_sequences\n",
    "from string import punctuation"
   ]
  },
  {
   "cell_type": "code",
   "execution_count": 15,
   "metadata": {},
   "outputs": [
    {
     "name": "stdout",
     "output_type": "stream",
     "text": [
      "!\"#$%&'()*+,-./:;<=>?@[\\]^_`{|}~\n"
     ]
    }
   ],
   "source": [
    "print(punctuation)"
   ]
  },
  {
   "cell_type": "code",
   "execution_count": 57,
   "metadata": {},
   "outputs": [],
   "source": [
    "x_train = data_train['original_text']\n",
    "y_train = data_train['sentiment_class']"
   ]
  },
  {
   "cell_type": "code",
   "execution_count": 143,
   "metadata": {},
   "outputs": [],
   "source": [
    "#EXPRESIONES REGULARES\n",
    "import re\n",
    "\n",
    "isURL = re.compile(r'http[s]?:// (?:[a-z]|[0-9]|[$-_@.&+]|[!*\\(\\),]|(?:%[0-9a-f][0-9a-f]))+', re.VERBOSE | re.IGNORECASE)\n",
    "isURLTw = re.compile(r'pic.(?:[a-z]|[0-9]|[$-_@.&+]|[!*\\(\\),]|(?:%[0-9a-f][0-9a-f]))+', re.VERBOSE | re.IGNORECASE)\n",
    "isRTusername = re.compile(r'^RT+[\\s]+(@[\\w_]+:)',re.VERBOSE | re.IGNORECASE)\n",
    "\n",
    "def clean_tweet(text):\n",
    "    if isURL.search(text):\n",
    "        index = isURL.search(text).span()\n",
    "        text = text[0:index[0]]\n",
    "    text = isURL.sub(\"\",text)\n",
    "    if isURLTw.search(text):\n",
    "        index = isURLTw.search(text).span()\n",
    "        text = text[0:index[0]]\n",
    "    text = isURLTw.sub(\"\",text)\n",
    "    \n",
    "    RT_text = isRTusername.search(text)\n",
    "    text = isRTusername.sub(\"\",text)\n",
    "    \n",
    "    En_text = []\n",
    "    for item in [i for i in text.split() if i.startswith(\"@\") ]:\n",
    "        text = re.sub(item,\"\",text)\n",
    "        item = item[1:]\n",
    "        item = ''.join([c for c in item if c not in punctuation])\n",
    "        En_text.append(item)\n",
    "    \n",
    "    Hash_text = []\n",
    "    for item in [i[1:]  for i in text.split() if i.startswith(\"#\") ]:\n",
    "        text = re.sub(item,\"\",text)\n",
    "        item = item[1:]\n",
    "        item = ''.join([c for c in item if c not in punctuation])\n",
    "        Hash_text.append(item)\n",
    "    \n",
    "    text = text.lower()\n",
    "    text = ''.join([c for c in text if c not in punctuation])\n",
    "    \n",
    "    dict_final = {\"text\":text,\n",
    "                  \"entity\":RT_text,\n",
    "                  \"persons\":En_text,\n",
    "                  \"hashtag\":Hash_text\n",
    "                }\n",
    "    return dict_final\n",
    "\n",
    "#NORMALIZE DATA\n",
    "def normalization(tweet_list):\n",
    "    lem = WordNetLemmatizer()\n",
    "    normalized_tweet = []\n",
    "    for word in tweet_list:\n",
    "        normalized_text = lem.lemmatize(word,'v')\n",
    "        normalized_tweet.append(normalized_text)\n",
    "    return normalized_tweet\n",
    "#AUN NO USO LA NORMALIZACION CON TODAAAAS LAS PALABRAS, PERO QUIZAS SEA MEJOR"
   ]
  },
  {
   "cell_type": "code",
   "execution_count": 148,
   "metadata": {},
   "outputs": [],
   "source": [
    "data_final=[]\n",
    "for x in x_train:\n",
    "    data_final.append(clean_tweet(x))\n",
    "x_train_final = pd.DataFrame(data_final)"
   ]
  },
  {
   "cell_type": "code",
   "execution_count": 150,
   "metadata": {
    "scrolled": true
   },
   "outputs": [
    {
     "data": {
      "text/html": [
       "<div>\n",
       "<style scoped>\n",
       "    .dataframe tbody tr th:only-of-type {\n",
       "        vertical-align: middle;\n",
       "    }\n",
       "\n",
       "    .dataframe tbody tr th {\n",
       "        vertical-align: top;\n",
       "    }\n",
       "\n",
       "    .dataframe thead th {\n",
       "        text-align: right;\n",
       "    }\n",
       "</style>\n",
       "<table border=\"1\" class=\"dataframe\">\n",
       "  <thead>\n",
       "    <tr style=\"text-align: right;\">\n",
       "      <th></th>\n",
       "      <th>text</th>\n",
       "      <th>entity</th>\n",
       "      <th>persons</th>\n",
       "      <th>hashtag</th>\n",
       "    </tr>\n",
       "  </thead>\n",
       "  <tbody>\n",
       "    <tr>\n",
       "      <th>3230</th>\n",
       "      <td>to all my sisters my sisters in law and also m...</td>\n",
       "      <td>None</td>\n",
       "      <td>[]</td>\n",
       "      <td>[]</td>\n",
       "    </tr>\n",
       "    <tr>\n",
       "      <th>3231</th>\n",
       "      <td>happy mother’s day to all the mums step mums a...</td>\n",
       "      <td>None</td>\n",
       "      <td>[]</td>\n",
       "      <td>[airbyemmabroadbent, airstylist, airdresser, a...</td>\n",
       "    </tr>\n",
       "    <tr>\n",
       "      <th>3232</th>\n",
       "      <td>happy mothers day to the craziest woman i know...</td>\n",
       "      <td>None</td>\n",
       "      <td>[]</td>\n",
       "      <td>[]</td>\n",
       "    </tr>\n",
       "    <tr>\n",
       "      <th>3233</th>\n",
       "      <td>happy mothers day to my amazing wife we both l...</td>\n",
       "      <td>None</td>\n",
       "      <td>[]</td>\n",
       "      <td>[othersDay, otheringSunday]</td>\n",
       "    </tr>\n",
       "    <tr>\n",
       "      <th>3234</th>\n",
       "      <td>wishing you all a safe  happy mothers day     ...</td>\n",
       "      <td>None</td>\n",
       "      <td>[Reedham]</td>\n",
       "      <td>[othersday, eedham, elax]</td>\n",
       "    </tr>\n",
       "  </tbody>\n",
       "</table>\n",
       "</div>"
      ],
      "text/plain": [
       "                                                   text entity    persons  \\\n",
       "3230  to all my sisters my sisters in law and also m...   None         []   \n",
       "3231  happy mother’s day to all the mums step mums a...   None         []   \n",
       "3232  happy mothers day to the craziest woman i know...   None         []   \n",
       "3233  happy mothers day to my amazing wife we both l...   None         []   \n",
       "3234  wishing you all a safe  happy mothers day     ...   None  [Reedham]   \n",
       "\n",
       "                                                hashtag  \n",
       "3230                                                 []  \n",
       "3231  [airbyemmabroadbent, airstylist, airdresser, a...  \n",
       "3232                                                 []  \n",
       "3233                        [othersDay, otheringSunday]  \n",
       "3234                          [othersday, eedham, elax]  "
      ]
     },
     "execution_count": 150,
     "metadata": {},
     "output_type": "execute_result"
    }
   ],
   "source": [
    "x_train_final.tail()"
   ]
  },
  {
   "cell_type": "code",
   "execution_count": 168,
   "metadata": {},
   "outputs": [],
   "source": [
    "MAX_WORDS = 100000 #NUMERO DE PALABRAS TOTALES\n",
    "MAX_LEN = 80 #NUMERO DE PALABRAS EN UN TEXT\n",
    "#TOKENIZACION\n",
    "token = Tokenizer(num_words=MAX_WORDS, oov_token='<OOV>')\n",
    "token.fit_on_texts(list(x_train_final['text']))\n",
    "#lista de secuencias\n",
    "x_train_text = token.texts_to_sequences(x_train_final['text'])\n",
    "x_train_text = pad_sequences(x_train_text,maxlen=MAX_LEN)\n",
    "\n",
    "word_in = token.word_index"
   ]
  },
  {
   "cell_type": "code",
   "execution_count": 169,
   "metadata": {},
   "outputs": [],
   "source": [
    "x = pd.DataFrame(x_train_text)\n",
    "y = pd.get_dummies(y_train).values"
   ]
  },
  {
   "cell_type": "code",
   "execution_count": 170,
   "metadata": {
    "scrolled": true
   },
   "outputs": [
    {
     "name": "stdout",
     "output_type": "stream",
     "text": [
      "(2426, 80) (2426, 3)\n",
      "(809, 80) (809, 3)\n"
     ]
    }
   ],
   "source": [
    "from sklearn.model_selection import train_test_split\n",
    "\n",
    "X1_train, X1_test, Y1_train, Y1_test = train_test_split(x,y, random_state = 42)\n",
    "print(X1_train.shape,Y1_train.shape)\n",
    "print(X1_test.shape,Y1_test.shape)"
   ]
  },
  {
   "cell_type": "code",
   "execution_count": 177,
   "metadata": {},
   "outputs": [
    {
     "name": "stdout",
     "output_type": "stream",
     "text": [
      "Model: \"sequential_6\"\n",
      "_________________________________________________________________\n",
      "Layer (type)                 Output Shape              Param #   \n",
      "=================================================================\n",
      "embedding_3 (Embedding)      (None, 80, 150)           15000000  \n",
      "_________________________________________________________________\n",
      "dropout_2 (Dropout)          (None, 80, 150)           0         \n",
      "_________________________________________________________________\n",
      "lstm (LSTM)                  (None, 200)               280800    \n",
      "_________________________________________________________________\n",
      "dropout_3 (Dropout)          (None, 200)               0         \n",
      "_________________________________________________________________\n",
      "dense (Dense)                (None, 3)                 603       \n",
      "=================================================================\n",
      "Total params: 15,281,403\n",
      "Trainable params: 15,281,403\n",
      "Non-trainable params: 0\n",
      "_________________________________________________________________\n",
      "None\n"
     ]
    }
   ],
   "source": [
    "from sklearn.feature_extraction.text import CountVectorizer\n",
    "from tensorflow.keras.models import Sequential\n",
    "from tensorflow.keras.layers import Dense, Embedding, LSTM,Dropout\n",
    "from keras.utils.np_utils import to_categorical\n",
    "max_fatures = MAX_WORDS\n",
    "#https://blog.usejournal.com/sentiment-classification-with-natural-language-processing-on-lstm-4dc0497c1f19\n",
    "embed_dim = 150\n",
    "lstm_out = 200\n",
    "model = Sequential()\n",
    "model.add(Embedding(max_fatures, embed_dim,input_length = x.shape[1]))\n",
    "model.add(Dropout(0.2))\n",
    "model.add(LSTM(lstm_out))\n",
    "model.add(Dropout(0.2))\n",
    "model.add(Dense(3,activation='softmax'))\n",
    "model.compile(loss = 'categorical_crossentropy', optimizer='adam',metrics = ['accuracy'])\n",
    "print(model.summary())"
   ]
  },
  {
   "cell_type": "code",
   "execution_count": 178,
   "metadata": {},
   "outputs": [
    {
     "name": "stdout",
     "output_type": "stream",
     "text": [
      "WARNING:tensorflow:The `nb_epoch` argument in `fit` has been renamed `epochs`.\n",
      "Train on 2426 samples\n",
      "Epoch 1/3\n",
      "2426/2426 - 49s - loss: 1.0373 - accuracy: 0.5293\n",
      "Epoch 2/3\n",
      "2426/2426 - 28s - loss: 0.9758 - accuracy: 0.5379\n",
      "Epoch 3/3\n",
      "2426/2426 - 30s - loss: 0.7452 - accuracy: 0.6851\n",
      "809/809 - 12s - loss: 1.1461 - accuracy: 0.4116\n",
      "score: 1.15\n",
      "acc: 0.41\n"
     ]
    }
   ],
   "source": [
    "batch_size = 32\n",
    "model.fit(X1_train, Y1_train, nb_epoch = 3, batch_size=batch_size, verbose = 2)\n",
    "score,acc = model.evaluate(X1_test, Y1_test, verbose = 2, batch_size = batch_size)\n",
    "print(\"score: %.2f\" % (score))\n",
    "print(\"acc: %.2f\" % (acc))"
   ]
  }
 ],
 "metadata": {
  "kernelspec": {
   "display_name": "Python 3",
   "language": "python",
   "name": "python3"
  },
  "language_info": {
   "codemirror_mode": {
    "name": "ipython",
    "version": 3
   },
   "file_extension": ".py",
   "mimetype": "text/x-python",
   "name": "python",
   "nbconvert_exporter": "python",
   "pygments_lexer": "ipython3",
   "version": "3.7.7"
  }
 },
 "nbformat": 4,
 "nbformat_minor": 2
}
